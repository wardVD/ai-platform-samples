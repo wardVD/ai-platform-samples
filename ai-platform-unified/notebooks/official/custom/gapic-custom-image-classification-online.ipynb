{
  "cells": [
    {
      "cell_type": "code",
      "execution_count": null,
      "metadata": {
        "id": "ur8xi4C7S06n"
      },
      "outputs": [],
      "source": [
        "# Copyright 2021 Google LLC\n",
        "#\n",
        "# Licensed under the Apache License, Version 2.0 (the \"License\");\n",
        "# you may not use this file except in compliance with the License.\n",
        "# You may obtain a copy of the License at\n",
        "#\n",
        "#     https://www.apache.org/licenses/LICENSE-2.0\n",
        "#\n",
        "# Unless required by applicable law or agreed to in writing, software\n",
        "# distributed under the License is distributed on an \"AS IS\" BASIS,\n",
        "# WITHOUT WARRANTIES OR CONDITIONS OF ANY KIND, either express or implied.\n",
        "# See the License for the specific language governing permissions and\n",
        "# limitations under the License."
      ]
    },
    {
      "cell_type": "markdown",
      "metadata": {
        "id": "eHLV0D7Y5jtU"
      },
      "source": [
        "# Training an image classification model with a `CustomJob` and getting online predictions\n",
        "\n",
        "<table align=\"left\">\n",
        "  <td>\n",
        "    <a href=\"https://colab.research.google.com/github/GoogleCloudPlatform/ai-platform-samples/master/ai-platform-unified/notebooks/custom_job_image_classification_model_for_online_prediction.ipynb\">\n",
        "      <img src=\"https://cloud.google.com/ml-engine/images/colab-logo-32px.png\" alt=\"Colab logo\"> Run in Colab\n",
        "    </a>\n",
        "  </td>\n",
        "  <td>\n",
        "    <a href=\"https://github.com/GoogleCloudPlatform/ai-platform-samples/master/ai-platform-unified/notebooks/custom_job_image_classification_model_for_online_prediction.ipynb\">\n",
        "      <img src=\"https://cloud.google.com/ml-engine/images/github-logo-32px.png\" alt=\"GitHub logo\">\n",
        "      View on GitHub\n",
        "    </a>\n",
        "  </td>\n",
        "</table>"
      ]
    },
    {
      "cell_type": "markdown",
      "metadata": {
        "id": "tvgnzT1CKxrO"
      },
      "source": [
        "# Overview\n",
        "\n",
        "\n",
        "This tutorial demonstrates how to use the AI Platform (Unified) Python client library to train and deploy a custom image classification model for online prediction.\n",
        "\n",
        "### Dataset\n",
        "\n",
        "The dataset used for this tutorial is the [cifar10 dataset](https://www.tensorflow.org/datasets/catalog/cifar10) from [TensorFlow Datasets](https://www.tensorflow.org/datasets/catalog/overview). The version of the dataset you will use is built into TensorFlow. The trained model predicts which type of class an image is from ten classes: airplane, automobile, bird, cat, deer, dog, frog, horse, ship, truck.\n",
        "\n",
        "### Objective\n",
        "\n",
        "In this notebook, you will learn how to create a custom model from a Python script in a Docker container using the AI Platform Python client library, and then do a prediction on the deployed model. You can alternatively create custom models from the command line using the `gcloud` command-line tool or online using the Google Cloud Console.\n",
        "\n",
        "The steps performed include: \n",
        "\n",
        "- Create an AI Platform `CustomJob` resource for training a model.\n",
        "- Train the model.\n",
        "- Retrieve and load the model (artifacts).\n",
        "- View the model evaluation.\n",
        "- Upload the model as a AI Platform `Model` resource.\n",
        "- Deploy the model to a serving `Endpoint` resource.\n",
        "- Make a prediction.\n",
        "- Undeploy the `Model`.\n",
        "\n",
        "### Costs \n",
        "\n",
        "This tutorial uses billable components of Google Cloud:\n",
        "\n",
        "* AI Platform (Unified)\n",
        "* Cloud Storage\n",
        "\n",
        "Learn about [AI Platform (Unified)\n",
        "pricing](https://cloud.google.com/ai-platform-unified/pricing) and [Cloud Storage\n",
        "pricing](https://cloud.google.com/storage/pricing)."
      ]
    },
    {
      "cell_type": "markdown",
      "metadata": {
        "id": "i7EUnXsZhAGF"
      },
      "source": [
        "## Installation\n",
        "\n",
        "Install the latest (preview) version of AI Platform Python client library."
      ]
    },
    {
      "cell_type": "code",
      "execution_count": null,
      "metadata": {
        "id": "wyy5Lbnzg5fi"
      },
      "outputs": [],
      "source": [
        "! pip3 install -U google-cloud-aiplatform"
      ]
    },
    {
      "cell_type": "markdown",
      "metadata": {
        "id": "CuffNSK2Sgh8"
      },
      "source": [
        "Install the Google `cloud-storage` library as well."
      ]
    },
    {
      "cell_type": "code",
      "execution_count": null,
      "metadata": {
        "id": "PXvWYrX-Sgh8"
      },
      "outputs": [],
      "source": [
        "! pip3 install google-cloud-storage"
      ]
    },
    {
      "cell_type": "markdown",
      "metadata": {
        "id": "sckmBDr0Sgh9"
      },
      "source": [
        "Install the *pillow* library for creating test images."
      ]
    },
    {
      "cell_type": "code",
      "execution_count": null,
      "metadata": {
        "id": "jj6Dx_0KSgh9"
      },
      "outputs": [],
      "source": [
        "! pip3 install -U pillow"
      ]
    },
    {
      "cell_type": "markdown",
      "metadata": {
        "id": "f47f8f38ba85"
      },
      "source": [
        "Install tensorflow to test the model after training"
      ]
    },
    {
      "cell_type": "code",
      "execution_count": null,
      "metadata": {
        "id": "3a14231ecb1f"
      },
      "outputs": [],
      "source": [
        "! pip3 install tensorflow"
      ]
    },
    {
      "cell_type": "markdown",
      "metadata": {
        "id": "xHhid1XLSgh9"
      },
      "source": [
        "### Restart the Kernel\n",
        "\n",
        "Once you've installed the AI Platform Python client library, you need to restart the notebook kernel so it can find the packages."
      ]
    },
    {
      "cell_type": "code",
      "execution_count": null,
      "metadata": {
        "id": "9luQpONrzPb6"
      },
      "outputs": [],
      "source": [
        "import os\n",
        "\n",
        "if not os.getenv(\"IS_TESTING\"):\n",
        "    # Automatically restart kernel after installs\n",
        "    import IPython\n",
        "\n",
        "    app = IPython.Application.instance()\n",
        "    app.kernel.do_shutdown(True)"
      ]
    },
    {
      "cell_type": "markdown",
      "metadata": {
        "id": "El7dqXgOSgh-"
      },
      "source": [
        "## Before you begin\n",
        "\n",
        "### GPU runtime\n",
        "\n",
        "**Make sure you're running this notebook in a GPU runtime if you have that option. In Colab, select Runtime > Change runtime type > GPU**"
      ]
    },
    {
      "cell_type": "markdown",
      "metadata": {
        "id": "BF1j6f9HApxa"
      },
      "source": [
        "### Set up your Google Cloud project\n",
        "\n",
        "**The following steps are required, regardless of your notebook environment.**\n",
        "\n",
        "1. [Select or create a Google Cloud project](https://console.cloud.google.com/cloud-resource-manager). When you first create an account, you get a $300 free credit towards your compute/storage costs.\n",
        "\n",
        "2. [Make sure that billing is enabled for your project.](https://cloud.google.com/billing/docs/how-to/modify-project)\n",
        "\n",
        "3. [Enable the AI Platform API, Compute Engine API and Container Registry API.](https://console.cloud.google.com/flows/enableapi?apiid=aiplatform.googleapis.com,compute_component,containerregistry.googleapis.com)\n",
        "\n",
        "4. The [Cloud SDK](https://cloud.google.com/sdk) is already installed in AI Platform Notebooks.\n",
        "\n",
        "5. Enter your project ID in the cell below. Then run the  cell to make sure the\n",
        "Cloud SDK uses the right project for all the commands in this notebook.\n",
        "\n",
        "**Note**: Jupyter runs lines prefixed with `!` as shell commands, and it interpolates Python variables prefixed with `$` into these commands."
      ]
    },
    {
      "cell_type": "markdown",
      "metadata": {
        "id": "AYRN_Qw-Sgh-"
      },
      "source": [
        "#### Project ID\n",
        "\n",
        "**If you don't know your project ID**, you might be able to get your project ID using `gcloud` command by executing the second cell below."
      ]
    },
    {
      "cell_type": "code",
      "execution_count": null,
      "metadata": {
        "id": "DQdw6JPnSgh-"
      },
      "outputs": [],
      "source": [
        "PROJECT_ID = \"[your-project-id]\"  # @param {type:\"string\"}"
      ]
    },
    {
      "cell_type": "code",
      "execution_count": null,
      "metadata": {
        "id": "oM1iC_MfAts1"
      },
      "outputs": [],
      "source": [
        "if PROJECT_ID == \"\" or PROJECT_ID is None or PROJECT_ID == \"[your-project-id]\":\n",
        "    # Get your GCP project id from gcloud\n",
        "    shell_output = !gcloud config list --format 'value(core.project)' 2>/dev/null\n",
        "    PROJECT_ID = shell_output[0]\n",
        "    print(\"Project ID:\", PROJECT_ID)"
      ]
    },
    {
      "cell_type": "code",
      "execution_count": null,
      "metadata": {
        "id": "0IzIAoOESgh_"
      },
      "outputs": [],
      "source": [
        "! gcloud config set project $PROJECT_ID"
      ]
    },
    {
      "cell_type": "markdown",
      "metadata": {
        "id": "AUGMD_1OSgh_"
      },
      "source": [
        "#### Region\n",
        "\n",
        "You can also change the `REGION` variable, which is used for operations\n",
        "throughout the rest of this notebook.  Below are regions supported for AI Platform. We recommend that you choose the region closest to you. \n",
        "\n",
        "- Americas: `us-central1`\n",
        "- Europe: `europe-west4`\n",
        "- Asia Pacific: `asia-east1`\n",
        "\n",
        "You must not use a multi-regional bucket for training with AI Platform. Not all regions provide support for all AI Platform services. For the latest support per region, see [the AI Platform locations documenation](https://cloud.google.com/ai-platform-unified/docs/general/locations)"
      ]
    },
    {
      "cell_type": "code",
      "execution_count": null,
      "metadata": {
        "id": "8A7XG20mSgh_"
      },
      "outputs": [],
      "source": [
        "REGION = \"us-central1\"  # @param {type: \"string\"}"
      ]
    },
    {
      "cell_type": "markdown",
      "metadata": {
        "id": "2PdiXxFUSgiA"
      },
      "source": [
        "#### Timestamp\n",
        "\n",
        "If you are in a live tutorial session, you might be using a shared test account or project. To avoid name collisions between users on resources created, you create a timestamp for each instance session, and append onto the name of resources which will be created in this tutorial."
      ]
    },
    {
      "cell_type": "code",
      "execution_count": null,
      "metadata": {
        "id": "8vjYoJ23SgiA"
      },
      "outputs": [],
      "source": [
        "from datetime import datetime\n",
        "\n",
        "TIMESTAMP = datetime.now().strftime(\"%Y%m%d%H%M%S\")"
      ]
    },
    {
      "cell_type": "markdown",
      "metadata": {
        "id": "dr--iN2kAylZ"
      },
      "source": [
        "### Authenticate your Google Cloud account\n",
        "\n",
        "**If you are using AI Platform Notebooks**, your environment is already\n",
        "authenticated. Skip this step."
      ]
    },
    {
      "cell_type": "code",
      "execution_count": null,
      "metadata": {
        "id": "EUtd38RFSgiA"
      },
      "outputs": [],
      "source": [
        "import os\n",
        "import sys\n",
        "\n",
        "# If you are running this notebook in Colab, run this cell and follow the\n",
        "# instructions to authenticate your Google Cloud account. This provides access\n",
        "# to your Cloud Storage bucket and lets you submit training jobs and prediction\n",
        "# requests.\n",
        "\n",
        "# If on AI Platform Notebooks, then don't execute this code\n",
        "if not os.path.exists(\"/opt/deeplearning/metadata/env_version\"):\n",
        "    if \"google.colab\" in sys.modules:\n",
        "        from google.colab import auth as google_auth\n",
        "\n",
        "        google_auth.authenticate_user()\n",
        "\n",
        "    # If you are running this tutorial in a notebook locally, replace the string\n",
        "    # below with the path to your service account key and run this cell to\n",
        "    # authenticate your Google Cloud account.\n",
        "    elif not os.getenv(\"IS_TESTING\"):\n",
        "        %env GOOGLE_APPLICATION_CREDENTIALS your_path_to_credentials.json"
      ]
    },
    {
      "cell_type": "markdown",
      "metadata": {
        "id": "zgPO1eR3CYjk"
      },
      "source": [
        "### Create a Cloud Storage bucket\n",
        "\n",
        "**The following steps are required, regardless of your notebook environment.**\n",
        "\n",
        "In this tutorial, you upload a Python package\n",
        "containing your training code to a Cloud Storage bucket. AI Platform runs\n",
        "the code from this package. In this tutorial, AI Platform also saves the\n",
        "trained model that results from your job in the same bucket. You can then\n",
        "create an AI Platform `Endpoint` based on this output in order to serve\n",
        "online predictions.\n",
        "\n",
        "Set the name of your Cloud Storage bucket below. It must be unique across all\n",
        "Cloud Storage buckets. "
      ]
    },
    {
      "cell_type": "code",
      "execution_count": null,
      "metadata": {
        "id": "MzGDU7TWdts_"
      },
      "outputs": [],
      "source": [
        "BUCKET_NAME = \"[your-bucket-name]\"  # @param {type:\"string\"}"
      ]
    },
    {
      "cell_type": "code",
      "execution_count": null,
      "metadata": {
        "id": "UccUpYmtSgiB"
      },
      "outputs": [],
      "source": [
        "if BUCKET_NAME == \"\" or BUCKET_NAME is None or BUCKET_NAME == \"[your-bucket-name]\":\n",
        "    BUCKET_NAME = PROJECT_ID + \"ucaip-custom-\" + TIMESTAMP"
      ]
    },
    {
      "cell_type": "markdown",
      "metadata": {
        "id": "-EcIXiGsCePi"
      },
      "source": [
        "**Only if your bucket doesn't already exist**: Run the following cell to create your Cloud Storage bucket."
      ]
    },
    {
      "cell_type": "code",
      "execution_count": null,
      "metadata": {
        "id": "NIq7R4HZCfIc"
      },
      "outputs": [],
      "source": [
        "! gsutil mb -l $REGION gs://$BUCKET_NAME"
      ]
    },
    {
      "cell_type": "markdown",
      "metadata": {
        "id": "ucvCsknMCims"
      },
      "source": [
        "Finally, validate access to your Cloud Storage bucket by examining its contents:"
      ]
    },
    {
      "cell_type": "code",
      "execution_count": null,
      "metadata": {
        "id": "vhOb7YnwClBb"
      },
      "outputs": [],
      "source": [
        "! gsutil ls -al gs://$BUCKET_NAME"
      ]
    },
    {
      "cell_type": "markdown",
      "metadata": {
        "id": "XoEqT2Y4DJmf"
      },
      "source": [
        "### Import libraries and define constants"
      ]
    },
    {
      "cell_type": "markdown",
      "metadata": {
        "id": "Y9Uo3tifg1kx"
      },
      "source": [
        "#### Import AI Platform Python client library\n",
        "\n",
        "Import the AI Platform Python client library into your Python environment."
      ]
    },
    {
      "cell_type": "code",
      "execution_count": null,
      "metadata": {
        "id": "pRUOFELefqf1"
      },
      "outputs": [],
      "source": [
        "import os\n",
        "import sys\n",
        "import time\n",
        "\n",
        "from google.cloud.aiplatform import gapic as aip\n",
        "from google.protobuf import json_format\n",
        "from google.protobuf.struct_pb2 import Value"
      ]
    },
    {
      "cell_type": "markdown",
      "metadata": {
        "id": "3oSzuw_tSgiC"
      },
      "source": [
        "#### AI Platform constants\n",
        "\n",
        "Set some constants for AI Platform:\n",
        "\n",
        "- `API_ENDPOINT`: The AI Platform API service endpoint for the Job, Model, Endpoint, and Prediction services.\n",
        "- `PARENT`: The AI Platform location root path for dataset, model and endpoint resources."
      ]
    },
    {
      "cell_type": "code",
      "execution_count": null,
      "metadata": {
        "id": "Xi3O4mNnSgiD"
      },
      "outputs": [],
      "source": [
        "# API service endpoint\n",
        "API_ENDPOINT = \"{}-aiplatform.googleapis.com\".format(REGION)\n",
        "\n",
        "# AI Platform (Unified) location root path for your dataset, model and endpoint resources\n",
        "PARENT = \"projects/\" + PROJECT_ID + \"/locations/\" + REGION"
      ]
    },
    {
      "cell_type": "markdown",
      "metadata": {
        "id": "ethKEiTbSgiD"
      },
      "source": [
        "#### Hardware Accelerators\n",
        "\n",
        "Set the hardware accelerators (e.g., GPU), if any, for training and prediction.\n",
        "\n",
        "Set the variables `TRAIN_GPU/TRAIN_NGPU` and `DEPLOY_GPU/DEPLOY_NGPU` to use a container image supporting a GPU and the number of GPUs allocated the virtual machine (VM) instance. For example, to use a GPU container image with 4 Nvidia Telsa K80 GPUs allocated to each VM, specify:\n",
        "\n",
        "    (aip.AcceleratorType.NVIDIA_TESLA_K80, 4)\n",
        "\n",
        "For GPU, available accelerators include:\n",
        "   - aip.AcceleratorType.NVIDIA_TESLA_K80\n",
        "   - aip.AcceleratorType.NVIDIA_TESLA_P100\n",
        "   - aip.AcceleratorType.NVIDIA_TESLA_P4\n",
        "   - aip.AcceleratorType.NVIDIA_TESLA_T4\n",
        "   - aip.AcceleratorType.NVIDIA_TESLA_V100\n",
        "\n",
        "   \n",
        "Otherwise specify `(None, None)` to use a container image to run on a CPU.\n",
        "   \n",
        "*Note*: TF releases before 2.3 for GPU support will fail to load the custom model in this tutorial. It is a known issue and fixed in TF 2.3 -- which is caused by static graph ops that are generated in the serving function. If you encounter this issue on your own custom models, the workaround is to create your own Docker container image for TF 2.3 with GPU support."
      ]
    },
    {
      "cell_type": "code",
      "execution_count": null,
      "metadata": {
        "id": "n2f-16SHSgiD"
      },
      "outputs": [],
      "source": [
        "TRAIN_GPU, TRAIN_NGPU = (aip.AcceleratorType.NVIDIA_TESLA_K80, 1)\n",
        "DEPLOY_GPU, DEPLOY_NGPU = (None, None)"
      ]
    },
    {
      "cell_type": "markdown",
      "metadata": {
        "id": "5AZ-G7F0SgiD"
      },
      "source": [
        "#### Container (Docker) image\n",
        "\n",
        "Next, set the Docker container images for training and prediction.\n",
        "\n",
        "- Set the variable `TF` to the Tensorflow version of the container image. For example, `2-1` would be version 2.1, and `1-15` would be version 1.15. The following list shows some of the pre-built images available:\n",
        "\n",
        " - Tensorflow 1.15\n",
        "   - `gcr.io/cloud-aiplatform/training/tf-cpu.1-15:latest`\n",
        "   - `gcr.io/cloud-aiplatform/training/tf-gpu.1-15:latest`\n",
        "   - `gcr.io/cloud-aiplatform/prediction/tf-cpu.1-15:latest`\n",
        "   - `gcr.io/cloud-aiplatform/prediction/tf-gpu.1-15:latest`\n",
        " - Tensorflow 2.1\n",
        "   - `gcr.io/cloud-aiplatform/training/tf-cpu.2-1:latest`\n",
        "   - `gcr.io/cloud-aiplatform/training/tf-gpu.2-1:latest`\n",
        "   - `gcr.io/cloud-aiplatform/prediction/tf2-cpu.2-1:latest`\n",
        "   - `gcr.io/cloud-aiplatform/prediction/tf2-gpu.2-1:latest`\n",
        " - Tensorflow 2.2\n",
        "   - `gcr.io/cloud-aiplatform/training/tf-cpu.2-2:latest`\n",
        "   - `gcr.io/cloud-aiplatform/training/tf-gpu.2-2:latest`\n",
        "   - `gcr.io/cloud-aiplatform/prediction/tf2-cpu.2-2:latest`\n",
        "   - `gcr.io/cloud-aiplatform/prediction/tf2-gpu.2-2:latest`\n",
        " - XGBoost\n",
        "   - `gcr.io/cloud-aiplatform/training/xgboost-cpu.1-1`\n",
        "   - `gcr.io/cloud-aiplatform/prediction/xgboost-cpu.1-1`\n",
        " - Scikit-learn\n",
        "   - `gcr.io/cloud-aiplatform/training/scikit-learn-cpu.0-23`\n",
        "   - `gcr.io/cloud-aiplatform/prediction/scikit-learn-cpu.0-23`\n",
        " - Pytorch\n",
        "   - `gcr.io/cloud-aiplatform/training/pytorch-cpu.1-4:latest`\n",
        "   - `gcr.io/cloud-aiplatform/training/pytorch-gpu.1-4:latest`\n",
        "   \n",
        "AI Platform frequently adds new training and prediction container images. For the latest list, see [Pre-built containers for training](https://cloud.google.com/ai-platform-unified/docs/training/pre-built-containers) and [Pre-built containers for prediction](https://cloud.google.com/ai-platform-unified/docs/predictions/pre-built-containers)"
      ]
    },
    {
      "cell_type": "code",
      "execution_count": null,
      "metadata": {
        "id": "fTSZrF5uSgiE"
      },
      "outputs": [],
      "source": [
        "TF = \"2-1\"\n",
        "if TF[0] == \"2\":\n",
        "    if TRAIN_GPU:\n",
        "        TRAIN_VERSION = \"tf-gpu.{}\".format(TF)\n",
        "    else:\n",
        "        TRAIN_VERSION = \"tf-cpu.{}\".format(TF)\n",
        "    if DEPLOY_GPU:\n",
        "        DEPLOY_VERSION = \"tf2-gpu.{}\".format(TF)\n",
        "    else:\n",
        "        DEPLOY_VERSION = \"tf2-cpu.{}\".format(TF)\n",
        "else:\n",
        "    if TRAIN_GPU:\n",
        "        TRAIN_VERSION = \"tf-gpu.{}\".format(TF)\n",
        "    else:\n",
        "        TRAIN_VERSION = \"tf-cpu.{}\".format(TF)\n",
        "    if DEPLOY_GPU:\n",
        "        DEPLOY_VERSION = \"tf-gpu.{}\".format(TF)\n",
        "    else:\n",
        "        DEPLOY_VERSION = \"tf-cpu.{}\".format(TF)\n",
        "\n",
        "TRAIN_IMAGE = \"gcr.io/cloud-aiplatform/training/{}:latest\".format(TRAIN_VERSION)\n",
        "DEPLOY_IMAGE = \"gcr.io/cloud-aiplatform/prediction/{}:latest\".format(DEPLOY_VERSION)\n",
        "\n",
        "print(\"Training:\", TRAIN_IMAGE, TRAIN_GPU, TRAIN_NGPU)\n",
        "print(\"Deployment:\", DEPLOY_IMAGE, DEPLOY_GPU, DEPLOY_NGPU)"
      ]
    },
    {
      "cell_type": "markdown",
      "metadata": {
        "id": "H3Ul12vESgiE"
      },
      "source": [
        "#### Machine Type\n",
        "\n",
        "Next, set the machine type to use for training and prediction.\n",
        "\n",
        "- Set the variables `TRAIN_COMPUTE` and `DEPLOY_COMPUTE` to configure the compute resources for the VMs you will use for training and prediction.\n",
        " - `machine type`\n",
        "     - `n1-standard`: 3.75GB of memory per vCPU.\n",
        "     - `n1-highmem`: 6.5GB of memory per vCPU\n",
        "     - `n1-highcpu`: 0.9 GB of memory per vCPU\n",
        " - `vCPUs`: number of \\[2, 4, 8, 16, 32, 64, 96 \\]\n",
        "  \n",
        "*Note: The following is not supported for training*\n",
        " \n",
        " - `standard`: 2 vCPUs\n",
        " - `highcpu`: 2, 4 and 8 vCPUs\n",
        " \n",
        "*Note: You may also use n2 and e2 machine types for training and deployment, but they do not support GPUs*"
      ]
    },
    {
      "cell_type": "code",
      "execution_count": null,
      "metadata": {
        "id": "nW8L66UNSgiE"
      },
      "outputs": [],
      "source": [
        "MACHINE_TYPE = \"n1-standard\"\n",
        "VCPU = \"4\"\n",
        "TRAIN_COMPUTE = MACHINE_TYPE + \"-\" + VCPU\n",
        "print(\"Train machine type\", TRAIN_COMPUTE)\n",
        "\n",
        "MACHINE_TYPE = \"n1-standard\"\n",
        "VCPU = \"4\"\n",
        "DEPLOY_COMPUTE = MACHINE_TYPE + \"-\" + VCPU\n",
        "print(\"Deploy machine type\", DEPLOY_COMPUTE)"
      ]
    },
    {
      "cell_type": "markdown",
      "metadata": {
        "id": "E6ppE7imft-y"
      },
      "source": [
        "# Tutorial\n",
        "\n",
        "Now you are ready to start creating your own custom model and training for CIFAR10.\n",
        "\n",
        "## Clients\n",
        "\n",
        "The AI Platform Python client library works as a client/server model. On your side, the Python script, you will create a client that sends requests and receives responses from the server -- AI Platform.\n",
        "\n",
        "Use several clients in this tutorial, so you will set them all up upfront.\n",
        "\n",
        "- Job Service for custom jobs.\n",
        "- Model Service for managed models.\n",
        "- Endpoint Service for deployment.\n",
        "- Prediction Service for serving."
      ]
    },
    {
      "cell_type": "code",
      "execution_count": null,
      "metadata": {
        "id": "q94MP0upSgiE"
      },
      "outputs": [],
      "source": [
        "# client options same for all services\n",
        "client_options = {\"api_endpoint\": API_ENDPOINT}\n",
        "predict_client_options = {\"api_endpoint\": API_ENDPOINT}\n",
        "\n",
        "\n",
        "def create_job_client():\n",
        "    client = aip.JobServiceClient(client_options=client_options)\n",
        "    return client\n",
        "\n",
        "\n",
        "def create_model_client():\n",
        "    client = aip.ModelServiceClient(client_options=client_options)\n",
        "    return client\n",
        "\n",
        "\n",
        "def create_endpoint_client():\n",
        "    client = aip.EndpointServiceClient(client_options=client_options)\n",
        "    return client\n",
        "\n",
        "\n",
        "def create_prediction_client():\n",
        "    client = aip.PredictionServiceClient(client_options=predict_client_options)\n",
        "    return client\n",
        "\n",
        "\n",
        "clients = {}\n",
        "clients[\"job\"] = create_job_client()\n",
        "clients[\"model\"] = create_model_client()\n",
        "clients[\"endpoint\"] = create_endpoint_client()\n",
        "clients[\"prediction\"] = create_prediction_client()\n",
        "\n",
        "for client in clients.items():\n",
        "    print(client)"
      ]
    },
    {
      "cell_type": "markdown",
      "metadata": {
        "id": "S3opmo2vSgiE"
      },
      "source": [
        "## Prepare your `CustomJob` specification\n",
        "\n",
        "Now that your clients are ready, your first step is to create a `CustomJob` specification for your custom training job.\n",
        "\n",
        "To practice using the Job service, start by training an **empty job**. In other words, create a `CustomJob` specification that provisions resources for training a job, and initiate the job using the client library's Job service, but configure the `CustomJob` so it doesn't actually train an ML model.\n",
        "\n",
        "This lets you focus on understanding the basic steps. Afterwards, you can create another `CustomJob` with a focus on adding the Python training package for training a CIFAR10 custom model.\n",
        "\n",
        "### Define a container specification\n",
        "\n",
        "Let's first start by defining a job name and then a container specification:\n",
        "\n",
        "- `JOB_NAME`: A unique name for your custom training job. For convenience, append a timestamp to make the name unique.\n",
        "- `MODEL_DIR`: A location in your Cloud Storage bucket for storing the model artificats.\n",
        "- `image_uri`: The location of the container image in Artifact Registry, Container Registry, or Docker Hub. This can be either a Google Cloud pre-built image or your own container image.\n",
        "- `--model-dir`: A command-line parameter to the container indicating the location to store the model."
      ]
    },
    {
      "cell_type": "code",
      "execution_count": null,
      "metadata": {
        "id": "dDgrigRoSgiF"
      },
      "outputs": [],
      "source": [
        "JOB_NAME = \"custom_job_\" + TIMESTAMP\n",
        "MODEL_DIR = \"gs://{}/{}\".format(BUCKET_NAME, JOB_NAME)\n",
        "CONTAINER_SPEC = {\n",
        "    \"image_uri\": TRAIN_IMAGE,\n",
        "    \"args\": [\"--model-dir=\" + MODEL_DIR],\n",
        "}"
      ]
    },
    {
      "cell_type": "markdown",
      "metadata": {
        "id": "4rYKlWaYSgiF"
      },
      "source": [
        "### Define the worker pool specification\n",
        "\n",
        "\n",
        "Next, you define the worker pool specification for your custom training job. This tells AI Platform what type and how many VMs to provision for the training.\n",
        "\n",
        "For this tutorial, you will use a single instance (node). \n",
        "\n",
        "- `replica_count`: The number of VMs to provision of this machine type.\n",
        "- `machine_type`: The type of VM to provision -- e.g., n1-standard-8.\n",
        "- `accelerator_type`: The type, if any, of hardware accelerator. In this tutorial if you previously set the variable `TRAIN_GPU != None`, you are using a GPU; otherwise you will use a CPU. \n",
        "- `accelerator_count`: The number of accelerators.\n",
        "- `container_spec`: The Docker container to install on the instances."
      ]
    },
    {
      "cell_type": "code",
      "execution_count": null,
      "metadata": {
        "id": "vkoepGTgSgiF"
      },
      "outputs": [],
      "source": [
        "if TRAIN_GPU:\n",
        "    machine_spec = {\n",
        "        \"machine_type\": TRAIN_COMPUTE,\n",
        "        \"accelerator_type\": TRAIN_GPU,\n",
        "        \"accelerator_count\": TRAIN_NGPU,\n",
        "    }\n",
        "else:\n",
        "    machine_spec = {\"machine_type\": TRAIN_COMPUTE, \"accelerator_count\": 0}\n",
        "\n",
        "WORKER_POOL_SPEC = [\n",
        "    {\n",
        "        \"replica_count\": 1,\n",
        "        \"machine_spec\": machine_spec,\n",
        "        \"container_spec\": CONTAINER_SPEC,\n",
        "    }\n",
        "]"
      ]
    },
    {
      "cell_type": "markdown",
      "metadata": {
        "id": "TK2iJnPuSgiF"
      },
      "source": [
        "If you were doing distributed training, you would add a second machine description and set the replica count accordingly. In the example below, the first machine descrption is the primary (coordinator), and the second ones are the machines the training is distributed to.\n",
        "\n",
        "```\n",
        "WORKER_POOL_SPEC=[\n",
        "     {\n",
        "        \"replica_count\": 1,\n",
        "        \"machine_spec\": {\n",
        "          \"machine_type\": \"n1-standard-8\"\n",
        "        },\n",
        "        \"container_spec\":  CONTAINER_SPEC,\n",
        "      },\n",
        "      {\n",
        "        \"replica_count\": 6,\n",
        "        \"machine_spec\": {\n",
        "          \"machine_type\": \"n1-standard-8\"\n",
        "        },\n",
        "        \"container_spec\": CONTAINER_SPEC\n",
        "      }\n",
        "]\n",
        "```"
      ]
    },
    {
      "cell_type": "markdown",
      "metadata": {
        "id": "jh9sTb6NSgiF"
      },
      "source": [
        "### Assemble the job specification\n",
        "\n",
        "Assemble the description for the `CustomJob` specification.\n",
        "\n",
        "- `display_name`: The human readable name you assign to this `CustomJob`.\n",
        "- `job_spec`: The specification for the `CustomJob`. Since this is an empty job, you only specified the resource requirements."
      ]
    },
    {
      "cell_type": "code",
      "execution_count": null,
      "metadata": {
        "id": "xlvBe8dRSgiF"
      },
      "outputs": [],
      "source": [
        "CUSTOM_JOB = {\n",
        "    \"display_name\": JOB_NAME,\n",
        "    \"job_spec\": {\"worker_pool_specs\": WORKER_POOL_SPEC},\n",
        "}"
      ]
    },
    {
      "cell_type": "markdown",
      "metadata": {
        "id": "KneOUPAPSgiF"
      },
      "source": [
        "## Train the model\n",
        "\n",
        "Start the training of your custom training job on AI Platform. Use this helper function `create_custom_job`, which takes the following parameter:\n",
        "\n",
        "- `custom_job`: The specification for the `CustomJob`.\n",
        "\n",
        "The helper function calls the job client service's `create_custom_job` method, with the following parameters:\n",
        "\n",
        "- `parent`: The AI Platform location path to `Dataset`, `Model` and `Endpoint` resources.\n",
        "- `custom_job`: The specification for the `CustomJob`.\n",
        "\n",
        "You will display a handful of the fields returned in `response` object. The two that are of most interest are the following:\n",
        "\n",
        "- `response.name`: The AI Platform fully qualified identifier assigned to this `CustomJob`. Save this identifier for using in subsequent steps.\n",
        "- `response.state`: The current state of the `CustomJob`. "
      ]
    },
    {
      "cell_type": "code",
      "execution_count": null,
      "metadata": {
        "id": "pDyX-cuoSgiG"
      },
      "outputs": [],
      "source": [
        "def create_custom_job(custom_job):\n",
        "    response = clients[\"job\"].create_custom_job(parent=PARENT, custom_job=CUSTOM_JOB)\n",
        "    print(\"name:\", response.name)\n",
        "    print(\"display_name:\", response.display_name)\n",
        "    print(\"state:\", response.state)\n",
        "    print(\"create_time:\", response.create_time)\n",
        "    print(\"update_time:\", response.update_time)\n",
        "    return response.name\n",
        "\n",
        "\n",
        "# Save the job name\n",
        "JOB_ID = create_custom_job(CUSTOM_JOB)"
      ]
    },
    {
      "cell_type": "markdown",
      "metadata": {
        "id": "ekKi8LILSgiG"
      },
      "source": [
        "### List all `CustomJob` resources\n",
        "\n",
        "Now that your `CustomJob` is running, get a list for all the `CustomJob` resources associated with your `PROJECT_ID`. This will probably be just one job, unless you've been running this tutorial multiple times or otherwise been using the AI Platform job service.\n",
        "\n",
        "Use the helper function `list_custom_jobs`, which calls the job client service's `list_custom_jobs` method. The response object is a list, where each element in the list is a separate job.  \n",
        "\n",
        "The `response` object for each `CustomJob` contains:\n",
        "\n",
        "- `name`: The AI Platform fully qualified identifier for your custom training job.\n",
        "- `display_name`: The human readable name you assigned to your custom training job.\n",
        "- `job_spec`: The job specification you provided for your custom training job.\n",
        "- `state`: The current status of the `CustomJob`.\n",
        "- `start_time`: When the custom training job was created.\n",
        "- `end_time`: When the execution of the custom job ended.\n",
        "- `update_time`: When the last time there was a status update to the `CustomJob`."
      ]
    },
    {
      "cell_type": "code",
      "execution_count": null,
      "metadata": {
        "id": "UA8-8KMtSgiG"
      },
      "outputs": [],
      "source": [
        "def list_custom_jobs():\n",
        "    response = clients[\"job\"].list_custom_jobs(parent=PARENT)\n",
        "    for job in response:\n",
        "        print(response)\n",
        "\n",
        "\n",
        "list_custom_jobs()"
      ]
    },
    {
      "cell_type": "markdown",
      "metadata": {
        "id": "ZAm3kBwjSgiG"
      },
      "source": [
        "### Get information on a custom job\n",
        "\n",
        "Next, use this helper function `get_custom_job`, which takes the following parameter:\n",
        "\n",
        "- `name`: The AI Platform fully qualified identifier for the `CustomJob`.\n",
        "\n",
        "The helper function gets the job information for just this job by calling the the job client service's `get_custom_job` method, with the following parameter:\n",
        "\n",
        "- `name`: The AI Platform fully qualified identifier for the `CustomJob`.\n",
        "\n",
        "Recall that you got the AI Platform fully qualified identifier for the custom job in the `response.name` field when you called the `create_custom_job` method, and you saved the identifier in the variable `JOB_ID`."
      ]
    },
    {
      "cell_type": "code",
      "execution_count": null,
      "metadata": {
        "id": "12-F6ZOYSgiG"
      },
      "outputs": [],
      "source": [
        "def get_custom_job(name, silent=False):\n",
        "    response = clients[\"job\"].get_custom_job(name=name)\n",
        "    if silent:\n",
        "        return response\n",
        "\n",
        "    print(\"name:\", response.name)\n",
        "    print(\"display_name:\", response.display_name)\n",
        "    print(\"state:\", response.state)\n",
        "    print(\"create_time:\", response.create_time)\n",
        "    print(\"update_time:\", response.update_time)\n",
        "    return response\n",
        "\n",
        "\n",
        "get_custom_job(JOB_ID)"
      ]
    },
    {
      "cell_type": "markdown",
      "metadata": {
        "id": "ewU3FiaZSgiG"
      },
      "source": [
        "### View logs\n",
        "\n",
        "In addition to the aforementioned state information on the job information, you can also look at logs associated with the `CustomJob`.\n",
        "\n",
        "#### View logs in the AI Platform section of the Cloud Console\n",
        "\n",
        "You can view logs in the AI Platform section of the Cloud Console. The cell below will display a link. Paste the link in the address bar of another tab in your browser. It will display information about your job."
      ]
    },
    {
      "cell_type": "code",
      "execution_count": null,
      "metadata": {
        "id": "DnMpP2qaSgiG"
      },
      "outputs": [],
      "source": [
        "print(\n",
        "    \"https://console.cloud.google.com/ai/platform/locations/{region}/training/{job_id}?project={project_id}\".format(\n",
        "        region=REGION, job_id=JOB_ID.split(\"/\")[-1], project_id=PROJECT_ID\n",
        "    )\n",
        ")"
      ]
    },
    {
      "cell_type": "markdown",
      "metadata": {
        "id": "ltPYlU18SgiG"
      },
      "source": [
        "#### View logs in Cloud Logging\n",
        "\n",
        "You can also view the logs in Cloud Logging. The cell below will display a link. Paste the link in the address bar of another tab in your browser. It will display logs for your job."
      ]
    },
    {
      "cell_type": "code",
      "execution_count": null,
      "metadata": {
        "id": "Oy9veZdSSgiH"
      },
      "outputs": [],
      "source": [
        "print(\n",
        "    \"https://console.cloud.google.com/logs/viewer?resource=ml_job%2Fjob_id%2F{job_id}&project={project_id}\".format(\n",
        "        job_id=JOB_ID.split(\"/\")[-1], project_id=PROJECT_ID\n",
        "    )\n",
        ")"
      ]
    },
    {
      "cell_type": "markdown",
      "metadata": {
        "id": "Tb152yuHSgiH"
      },
      "source": [
        "### Cancel a `CustomJob`\n",
        "\n",
        "If you want, you can cancel your \"empty\" training job. Use this helper function `cancel_job`, with the following parameter:\n",
        "\n",
        "- `name`: The AI Platform fully qualified identifier for your custom training job.\n",
        "\n",
        "The helper function will call the job service client's `cancel_custom_job` method, with the following parameter:\n",
        "\n",
        "- `name`: The AI Platform fully qualified identifier for your custom training job.\n",
        "\n",
        "Use a try/except around the call since it will throw an exception if the job is already completed (succeeded) -- which most likely it is."
      ]
    },
    {
      "cell_type": "code",
      "execution_count": null,
      "metadata": {
        "id": "PL72pzs9SgiH"
      },
      "outputs": [],
      "source": [
        "def cancel_job(name):\n",
        "    try:\n",
        "        response = clients[\"job\"].cancel_custom_job(name=name)\n",
        "        print(response)\n",
        "    except Exception as e:\n",
        "        print(e)\n",
        "\n",
        "\n",
        "time.sleep(10)\n",
        "cancel_job(JOB_ID)"
      ]
    },
    {
      "cell_type": "markdown",
      "metadata": {
        "id": "RJPMQcBLSgiH"
      },
      "source": [
        "### Delete a custom job\n",
        "\n",
        "Next, you can delete your \"empty\" training job. Use the helper function `delete_job`, with the following parameter:\n",
        "\n",
        "- `name`: The AI Platform fully qualified identifier for your custom training job.\n",
        "\n",
        "The helper function will call the job service client's `delete_custom_job` method, with the parameter:\n",
        "\n",
        "- `name`: The AI Platform fully qualified identifier for your custom training job.\n",
        "\n",
        "Afterwards, you can verify that the job has been deleted by calling the method `get_custom_job` for the same job. Use a try/except around the call since it will throw an exception if the job is already deleted -- which most likely it is."
      ]
    },
    {
      "cell_type": "code",
      "execution_count": null,
      "metadata": {
        "id": "9m40flETSgiH"
      },
      "outputs": [],
      "source": [
        "def delete_job(name):\n",
        "    try:\n",
        "        response = clients[\"job\"].delete_custom_job(name=name)\n",
        "        print(\"Delete\", response)\n",
        "    except Exception as e:\n",
        "        print(e)\n",
        "\n",
        "    try:\n",
        "        response = clients[\"job\"].get_custom_job(name=name)\n",
        "    except Exception as e:\n",
        "        print(e)\n",
        "\n",
        "\n",
        "time.sleep(10)\n",
        "delete_job(JOB_ID)"
      ]
    },
    {
      "cell_type": "markdown",
      "metadata": {
        "id": "HSCCg_1ISgiH"
      },
      "source": [
        "## Train a model - CIFAR10\n",
        "\n",
        "Now that you have seen the basic steps for custom training, you will do a new custom job to train a model. There are two ways you can train a custom model using a container image:\n",
        "\n",
        "- **Use a an AI Platform pre-built container**. If you use a pre-built container, you will additionally specify a Python package to install into the container image. This Python package contains your code for training a custom model.\n",
        "\n",
        "- **Use your own custom container image**. If you use your own container, the container needs to contain your code for training a custom model.\n",
        "\n",
        "\n",
        "In this tutorial, you will train a CIFAR10 model using a pre-built container. You need to update the worker pool specification by adding a description for `python_package_spec`. This section will tell the custom job the Python training package to install and which Python module to invoke, along with command line arguments for the Python module.\n",
        "\n",
        "The Python package specification contains the following fields:\n",
        "\n",
        "-`executor_image_spec`: This is the Docker image which is configured for your custom training job. You will continue to use the same one we used earlier for demonstration.\n",
        "\n",
        "-`package_uris`: This is a list of the locations (URIs) of your Python training packages to install on the provisioned instance. The locations need to be in a Cloud Storage bucket. These can be either individual Python files or a zip (archive) of an entire package. In the later case, the job service will unzip (unarchive) the contents into the Docker container.\n",
        "\n",
        "-`python_module`: The Python module (script) to invoke for running the custom training job. In this example, you will be invoking `trainer.task.py` -- note that it was not neccessary to append the `.py` suffix.\n",
        "\n",
        "-`args`: The command line arguments to pass to the corresponding pythom module. In this example, you will be:\n",
        "  - `\"--model-dir=\" + MODEL_DIR` : The Cloud Storage location where to store the model artifacts. There are two ways to tell the training script where to save the model artifacts:\n",
        "      - direct: You pass the Cloud Storage location as a command line argument to your training script (set variable `DIRECT = True`), or\n",
        "      - indirect: The service passes the Cloud Storage location as the environment variable `AIP_MODEL_DIR` to your training script (set variable `DIRECT = False`). In this case, you tell the service the model artifact location in the job specification.\n",
        "  - `\"--epochs=\" + EPOCHS`: The number of epochs for training.\n",
        "  - `\"--steps=\" + STEPS`: The number of steps (batches) per epoch.\n",
        "  - `\"--distribute=\" + TRAIN_STRATEGY\"` : The training distribution strategy to use for single or distributed training.\n",
        "     - `\"single\"`: single device.\n",
        "     - `\"mirror\"`: all GPU devices on a single VM.\n",
        "     - `\"multi\"`: all GPU devices on all VMs."
      ]
    },
    {
      "cell_type": "code",
      "execution_count": null,
      "metadata": {
        "id": "m3jJ_3MaSgiH"
      },
      "outputs": [],
      "source": [
        "if TRAIN_GPU:\n",
        "    machine_spec = {\n",
        "        \"machine_type\": TRAIN_COMPUTE,\n",
        "        \"accelerator_type\": TRAIN_GPU,\n",
        "        \"accelerator_count\": TRAIN_NGPU,\n",
        "    }\n",
        "else:\n",
        "    machine_spec = {\"machine_type\": TRAIN_COMPUTE, \"accelerator_count\": 0}\n",
        "\n",
        "if not TRAIN_NGPU or TRAIN_NGPU < 2:\n",
        "    TRAIN_STRATEGY = \"single\"\n",
        "else:\n",
        "    TRAIN_STRATEGY = \"mirror\"\n",
        "\n",
        "EPOCHS = 20\n",
        "STEPS = 100\n",
        "\n",
        "DIRECT = True\n",
        "if DIRECT:\n",
        "    CMDARGS = [\n",
        "        \"--model-dir=\" + MODEL_DIR,\n",
        "        \"--epochs=\" + str(EPOCHS),\n",
        "        \"--steps=\" + str(STEPS),\n",
        "        \"--distribute=\" + TRAIN_STRATEGY,\n",
        "    ]\n",
        "else:\n",
        "    CMDARGS = [\n",
        "        \"--epochs=\" + str(EPOCHS),\n",
        "        \"--steps=\" + str(STEPS),\n",
        "        \"--distribute=\" + TRAIN_STRATEGY,\n",
        "    ]\n",
        "\n",
        "WORKER_POOL_SPEC = [\n",
        "    {\n",
        "        \"replica_count\": 1,\n",
        "        \"machine_spec\": machine_spec,\n",
        "        \"python_package_spec\": {\n",
        "            \"executor_image_uri\": TRAIN_IMAGE,\n",
        "            \"package_uris\": [\"gs://\" + BUCKET_NAME + \"/trainer_cifar.tar.gz\"],\n",
        "            \"python_module\": \"trainer.task\",\n",
        "            \"args\": CMDARGS,\n",
        "        },\n",
        "    }\n",
        "]"
      ]
    },
    {
      "cell_type": "markdown",
      "metadata": {
        "id": "HFokW7VXSgiI"
      },
      "source": [
        "### Assemble a job specification\n",
        "\n",
        "Now assemble the description for the `CustomJob` specification:\n",
        "\n",
        "- `display_name`: The human-readable name you assign to this `CustomJob`.\n",
        "- `job_spec`: The specification for the `CustomJob`. \n",
        "    - `base_output_directory`: This tells the service the Cloud Storage location where to save the model artifacts (when variable `DIRECT = False`). The service will then pass the location to the training script as the environment variable `AIP_MODEL_DIR`, and the path will be of the form:\n",
        "    \n",
        "                <output_uri_prefix>/model"
      ]
    },
    {
      "cell_type": "code",
      "execution_count": null,
      "metadata": {
        "id": "bOsiAl6USgiI"
      },
      "outputs": [],
      "source": [
        "if DIRECT:\n",
        "    JOB_SPEC = {\"worker_pool_specs\": WORKER_POOL_SPEC}\n",
        "else:\n",
        "    JOB_SPEC = {\n",
        "        \"worker_pool_specs\": WORKER_POOL_SPEC,\n",
        "        \"base_output_directory\": {\"output_uri_prefix\": MODEL_DIR},\n",
        "    }\n",
        "\n",
        "CUSTOM_JOB = {\"display_name\": JOB_NAME, \"job_spec\": JOB_SPEC}"
      ]
    },
    {
      "cell_type": "markdown",
      "metadata": {
        "id": "3XGfA59TSgiI"
      },
      "source": [
        "### Examine the training package\n",
        "\n",
        "#### Package layout\n",
        "\n",
        "Before you start the training, look at how a Python package is assembled for a custom training job. When unarchived, the package contains the following directory/file layout.\n",
        "\n",
        "- PKG-INFO\n",
        "- README.md\n",
        "- setup.cfg\n",
        "- setup.py\n",
        "- trainer\n",
        "  - \\_\\_init\\_\\_.py\n",
        "  - task.py\n",
        "\n",
        "The files `setup.cfg` and `setup.py` are the instructions for installing the package into the operating environment of the Docker container.\n",
        "\n",
        "The file `trainer/task.py` is the Python script for executing the `CustomJob`. *Note*, when we referred to it in the worker pool specification, we replace the directory slash with a dot (`trainer.task`) and dropped the file suffix (`.py`).\n",
        "\n",
        "#### Package Assembly\n",
        "\n",
        "In the following cells, you will assemble the training package."
      ]
    },
    {
      "cell_type": "code",
      "execution_count": null,
      "metadata": {
        "id": "xvbmuC-GSgiI"
      },
      "outputs": [],
      "source": [
        "# Make folder for Python training script\n",
        "! rm -rf custom\n",
        "! mkdir custom\n",
        "\n",
        "# Add package information\n",
        "! touch custom/README.md\n",
        "\n",
        "setup_cfg = \"[egg_info]\\n\\\n",
        "tag_build =\\n\\\n",
        "tag_date = 0\"\n",
        "! echo \"$setup_cfg\" > custom/setup.cfg\n",
        "\n",
        "setup_py = \"import setuptools\\n\\\n",
        "# Requires TensorFlow Datasets\\n\\\n",
        "setuptools.setup(\\n\\\n",
        "    install_requires=[\\n\\\n",
        "        'tensorflow_datasets==1.3.0',\\n\\\n",
        "    ],\\n\\\n",
        "    packages=setuptools.find_packages())\"\n",
        "! echo \"$setup_py\" > custom/setup.py\n",
        "\n",
        "pkg_info = \"Metadata-Version: 1.0\\n\\\n",
        "Name: UNKNOWN\\n\\\n",
        "Version: 0.0.0\\n\\\n",
        "Summary: Demostration training script\\n\\\n",
        "Home-page: www.google.com\\n\\\n",
        "Author: Google\\n\\\n",
        "Author-email: UNKNOWN\\n\\\n",
        "License: Public\\n\\\n",
        "Description: Demo\\n\\\n",
        "Platform: AI Platform (Unified)\"\n",
        "! echo \"$pkg_info\" > custom/PKG-INFO\n",
        "\n",
        "# Make the training subfolder\n",
        "! mkdir custom/trainer\n",
        "! touch custom/trainer/__init__.py"
      ]
    },
    {
      "cell_type": "markdown",
      "metadata": {
        "id": "sY6NTRwtSgiI"
      },
      "source": [
        "#### Task.py contents\n",
        "\n",
        "In the next cell, you will write the contents of the training script task.py. In summary, the training script does the following:\n",
        "\n",
        "- Gets the directory where to save the model artifacts from the command line (`--model_dir`), and if not specified, then from the environment variable `AIP_MODEL_DIR`.\n",
        "- Loads CIFAR10 dataset from TF Datasets (tfds).\n",
        "- Builds a simple ConvNet model using TF.Keras model API.\n",
        "- Compiles the model (`compile()`).\n",
        "- Sets a training distribution strategy according to the argument `args.distribute`.\n",
        "- Trains the model (`fit()`) with epochs and steps according to the arguments `args.epochs` and `args.steps`\n",
        "- Saves the trained model (`save(args.model_dir)`) to the specified model directory."
      ]
    },
    {
      "cell_type": "code",
      "execution_count": null,
      "metadata": {
        "id": "sjA0n8q2SgiI"
      },
      "outputs": [],
      "source": [
        "%%writefile custom/trainer/task.py\n",
        "# Single, Mirror and Multi-Machine Distributed Training for CIFAR-10\n",
        "\n",
        "import tensorflow_datasets as tfds\n",
        "import tensorflow as tf\n",
        "from tensorflow.python.client import device_lib\n",
        "import argparse\n",
        "import os\n",
        "import sys\n",
        "tfds.disable_progress_bar()\n",
        "\n",
        "parser = argparse.ArgumentParser()\n",
        "parser.add_argument('--model-dir', dest='model_dir',\n",
        "                    default=os.getenv(\"AIP_MODEL_DIR\"), type=str, help='Model dir.')\n",
        "parser.add_argument('--lr', dest='lr',\n",
        "                    default=0.01, type=float,\n",
        "                    help='Learning rate.')\n",
        "parser.add_argument('--epochs', dest='epochs',\n",
        "                    default=10, type=int,\n",
        "                    help='Number of epochs.')\n",
        "parser.add_argument('--steps', dest='steps',\n",
        "                    default=200, type=int,\n",
        "                    help='Number of steps per epoch.')\n",
        "parser.add_argument('--distribute', dest='distribute', type=str, default='single',\n",
        "                    help='distributed training strategy')\n",
        "args = parser.parse_args()\n",
        "\n",
        "print('Python Version = {}'.format(sys.version))\n",
        "print('TensorFlow Version = {}'.format(tf.__version__))\n",
        "print('TF_CONFIG = {}'.format(os.environ.get('TF_CONFIG', 'Not found')))\n",
        "print('DEVICES', device_lib.list_local_devices())\n",
        "\n",
        "# Single Machine, single compute device\n",
        "if args.distribute == 'single':\n",
        "    if tf.test.is_gpu_available():\n",
        "        strategy = tf.distribute.OneDeviceStrategy(device=\"/gpu:0\")\n",
        "    else:\n",
        "        strategy = tf.distribute.OneDeviceStrategy(device=\"/cpu:0\")\n",
        "# Single Machine, multiple compute device\n",
        "elif args.distribute == 'mirror':\n",
        "    strategy = tf.distribute.MirroredStrategy()\n",
        "# Multiple Machine, multiple compute device\n",
        "elif args.distribute == 'multi':\n",
        "    strategy = tf.distribute.experimental.MultiWorkerMirroredStrategy()\n",
        "\n",
        "# Multi-worker configuration\n",
        "print('num_replicas_in_sync = {}'.format(strategy.num_replicas_in_sync))\n",
        "\n",
        "# Preparing dataset\n",
        "BUFFER_SIZE = 10000\n",
        "BATCH_SIZE = 64\n",
        "\n",
        "def make_datasets_unbatched():\n",
        "  # Scaling CIFAR10 data from (0, 255] to (0., 1.]\n",
        "  def scale(image, label):\n",
        "    image = tf.cast(image, tf.float32)\n",
        "    image /= 255.0\n",
        "    return image, label\n",
        "\n",
        "  datasets, info = tfds.load(name='cifar10',\n",
        "                            with_info=True,\n",
        "                            as_supervised=True)\n",
        "  return datasets['train'].map(scale).cache().shuffle(BUFFER_SIZE).repeat()\n",
        "\n",
        "\n",
        "# Build the Keras model\n",
        "def build_and_compile_cnn_model():\n",
        "  model = tf.keras.Sequential([\n",
        "      tf.keras.layers.Conv2D(32, 3, activation='relu', input_shape=(32, 32, 3)),\n",
        "      tf.keras.layers.MaxPooling2D(),\n",
        "      tf.keras.layers.Conv2D(32, 3, activation='relu'),\n",
        "      tf.keras.layers.MaxPooling2D(),\n",
        "      tf.keras.layers.Flatten(),\n",
        "      tf.keras.layers.Dense(10, activation='softmax')\n",
        "  ])\n",
        "  model.compile(\n",
        "      loss=tf.keras.losses.sparse_categorical_crossentropy,\n",
        "      optimizer=tf.keras.optimizers.SGD(learning_rate=args.lr),\n",
        "      metrics=['accuracy'])\n",
        "  return model\n",
        "\n",
        "# Train the model\n",
        "NUM_WORKERS = strategy.num_replicas_in_sync\n",
        "# Here the batch size scales up by number of workers since\n",
        "# `tf.data.Dataset.batch` expects the global batch size.\n",
        "GLOBAL_BATCH_SIZE = BATCH_SIZE * NUM_WORKERS\n",
        "train_dataset = make_datasets_unbatched().batch(GLOBAL_BATCH_SIZE)\n",
        "\n",
        "with strategy.scope():\n",
        "  # Creation of dataset, and model building/compiling need to be within\n",
        "  # `strategy.scope()`.\n",
        "  model = build_and_compile_cnn_model()\n",
        "\n",
        "model.fit(x=train_dataset, epochs=args.epochs, steps_per_epoch=args.steps)\n",
        "model.save(args.model_dir)"
      ]
    },
    {
      "cell_type": "markdown",
      "metadata": {
        "id": "maot8YQVSgiI"
      },
      "source": [
        "#### Store training script on your Cloud Storage bucket\n",
        "\n",
        "Next, package the training folder into a compressed tarball, and then store it in your Cloud Storage bucket."
      ]
    },
    {
      "cell_type": "code",
      "execution_count": null,
      "metadata": {
        "id": "nwMcLKCRSgiJ"
      },
      "outputs": [],
      "source": [
        "! rm -f custom.tar custom.tar.gz\n",
        "! tar cvf custom.tar custom\n",
        "! gzip custom.tar\n",
        "! gsutil cp custom.tar.gz gs://$BUCKET_NAME/trainer_cifar.tar.gz"
      ]
    },
    {
      "cell_type": "markdown",
      "metadata": {
        "id": "gHr-kUtLSgiJ"
      },
      "source": [
        "### Train the model\n",
        "\n",
        "Start the training of your custom training job on AI Platform. Use the helper function from a previous section, `create_custom_job`, which will return the AI Platform (Unified) fully qualified identifier assigned to the `CustomJob`."
      ]
    },
    {
      "cell_type": "code",
      "execution_count": null,
      "metadata": {
        "id": "TCtAtEQhSgiJ"
      },
      "outputs": [],
      "source": [
        "# Save the job name\n",
        "JOB_ID = create_custom_job(CUSTOM_JOB)"
      ]
    },
    {
      "cell_type": "markdown",
      "metadata": {
        "id": "rzjOixWvSgiJ"
      },
      "source": [
        "### Get information on a `CustomJob`\n",
        "\n",
        "Get the status on our custom training job for CIFAR10 using the helper function defined earlier `get_custom_job`. The job most likely will still be either PENDING or RUNNING."
      ]
    },
    {
      "cell_type": "code",
      "execution_count": null,
      "metadata": {
        "id": "uk9FUMSxSgiJ"
      },
      "outputs": [],
      "source": [
        "response = get_custom_job(JOB_ID)"
      ]
    },
    {
      "cell_type": "markdown",
      "metadata": {
        "id": "LxjO0Ol1SgiJ"
      },
      "source": [
        "# Deployment\n",
        "\n",
        "Once your model is done training, you can calculate the actual time it took to train the model by subtracting `start_time` from `end_time`. For your model, you need to know the location of the SavedModel, which the Python script saved in your Cloud Storage bucket at `MODEL_DIR + '/saved_model.pb'`.\n"
      ]
    },
    {
      "cell_type": "code",
      "execution_count": null,
      "metadata": {
        "id": "QilLK-Z1SgiK"
      },
      "outputs": [],
      "source": [
        "while True:\n",
        "    response = get_custom_job(JOB_ID, True)\n",
        "    if response.state != aip.JobState.JOB_STATE_SUCCEEDED:\n",
        "        print(\"Training job has not completed:\", response.state)\n",
        "        model_path_to_deploy = None\n",
        "        if response.state == aip.JobState.JOB_STATE_FAILED:\n",
        "            break\n",
        "    else:\n",
        "        if not DIRECT:\n",
        "            MODEL_DIR = MODEL_DIR + \"/model\"\n",
        "        model_path_to_deploy = MODEL_DIR\n",
        "        print(\"Training Time:\", response.update_time - response.create_time)\n",
        "        break\n",
        "    time.sleep(60)\n",
        "\n",
        "print(\"model_to_deploy:\", model_path_to_deploy)"
      ]
    },
    {
      "cell_type": "markdown",
      "metadata": {
        "id": "4yAXGLKqSgiK"
      },
      "source": [
        "## Load the saved model\n",
        "\n",
        "Your model is stored in a TensorFlow SavedModel format in a Cloud Storage bucket. Load it from the Cloud Storage bucket in order to evaluate the model and get a prediction.\n",
        "\n",
        "To load the model, use the `tf.keras.models.load_model()` method, passing it the Cloud Storage path where the model is saved -- specified by `MODEL_DIR`."
      ]
    },
    {
      "cell_type": "code",
      "execution_count": null,
      "metadata": {
        "id": "iUwn1X3JSgiK"
      },
      "outputs": [],
      "source": [
        "import tensorflow as tf\n",
        "\n",
        "model = tf.keras.models.load_model(MODEL_DIR)"
      ]
    },
    {
      "cell_type": "markdown",
      "metadata": {
        "id": "hOyo47T_SgiK"
      },
      "source": [
        "## Evaluate the model\n",
        "\n",
        "Now, find out how good the model is. \n",
        "\n",
        "### Load evaluation data\n",
        "\n",
        "You will load the CIFAR10 test (holdout) data from `tf.keras.datasets`, using the method `load_data()`. This will return the dataset as a tuple of two elements. The first element is the training data and the second is the test data. Each element is also a tuple of two elements: the image data, and the corresponding labels.\n",
        "\n",
        "You don't need the training data, so the code loads it as `(_, _)`.\n",
        "\n",
        "Before you can run the data through evaluation, you need to preprocess it:\n",
        "\n",
        "* x_test: Normalize (rescale) the pixel data by dividing each pixel by 255. This will replace each single byte integer pixel with a 32-bit floating point number between 0 and 1.\n",
        "\n",
        "* y_test: The labels are already scalar (sparse). If you look back at the `compile()` step in the `trainer/task.py` script, you will find that it was compiled for sparse labels. Therefore you don't need to perform any preprocessing."
      ]
    },
    {
      "cell_type": "code",
      "execution_count": null,
      "metadata": {
        "id": "xTxe9Dc-SgiK"
      },
      "outputs": [],
      "source": [
        "import numpy as np\n",
        "from tensorflow.keras.datasets import cifar10\n",
        "\n",
        "(_, _), (x_test, y_test) = cifar10.load_data()\n",
        "x_test = (x_test / 255.0).astype(np.float32)\n",
        "\n",
        "print(x_test.shape, y_test.shape)"
      ]
    },
    {
      "cell_type": "markdown",
      "metadata": {
        "id": "osJHrQt0SgiK"
      },
      "source": [
        "### Evaluate the model\n",
        "\n",
        "Evaluate how well the ConvNet model trained by the `CustomJob` performed. You probably see a result around 37%, which not so good. However, this low performance is expected becuase you only trained for 20 epochs and 100 steps per epoch: see the `task.py fit() call`."
      ]
    },
    {
      "cell_type": "code",
      "execution_count": null,
      "metadata": {
        "id": "ggfeYSz6SgiK"
      },
      "outputs": [],
      "source": [
        "model.evaluate(x_test, y_test)"
      ]
    },
    {
      "cell_type": "markdown",
      "metadata": {
        "id": "bTwiGZeoSgiK"
      },
      "source": [
        "## Upload the model for serving\n",
        "\n",
        "Next, upload your TensorFlow model to AI Platform in order to create a AI Platform `Model` resource. During upload, you need to define a serving function to convert data to the format your `Model` expects. If you send encoded data to AI Platform, your serving function ensures that the data is decoded on the model server before it is passed as input to your `Model`.\n",
        "\n",
        "### How does the serving function work\n",
        "\n",
        "When you send a request to an online prediction server, the request is received by a HTTP server. The HTTP server\n",
        "extracts the prediction request from the HTTP request content body. The extracted prediction request is forwarded to the serving function. If you use one of AI Platform's pre-built prediction containers, the request content is passed to the serving function as a `tf.string`.\n",
        "\n",
        "The serving function consists of two parts:\n",
        "\n",
        "- `preprocessing function`:  \n",
        "  - Converts the input (`tf.string`) to the input shape and data type of the underlying model (dynamic graph).\n",
        "  - Performs the same preprocessing of the data that was done during training of the underlying model; for example, normalizing input data.\n",
        "- `post-processing function`:  \n",
        "  - Converts the model output to the format expected by the receiving application; for example, compressing the output.\n",
        "  - Packages the output for the receiving application; for example, adding headings or making a JSON object.\n",
        "  \n",
        "Both the preprocessing and post-processing functions are converted to static graphs which are fused to the model. The output from the underlying model is passed to the post-processing function. The post-processing function passes the converted/packaged output back to the HTTP server. The HTTP server returns the output as the HTTP response content.\n",
        "\n",
        "One consideration you need to consider when building serving functions for TensorFlow Keras models is that they run as static graphs. This means you cannot use TensorFlow graph operations that require a dynamic graph. If you do, you will get an error when you compile the serving function indicating that you are using an EagerTensor, which is not supported.\n",
        "\n",
        "### Serving function for image data\n",
        "\n",
        "To pass images to the prediction service, you encode the compressed (for example, JPEG) image bytes using base64 -- which makes the content safe from modification while transmitting binary data over the network. Since this TensorFlow model expects input data as raw (uncompressed) bytes, you need to ensure that the base64-encoded data gets converted back to raw bytes before it is passed as input to the TensorFlow model.\n",
        "\n",
        "To resolve this, define a serving function (`serving_fn`) and attach it to the model as a preprocessing step. Add a `@tf.function` decorator so the serving function is fused to the underlying model (instead of upstream on a CPU).\n",
        "\n",
        "When you send a prediction or explanation request, the content of the request is base 64 decoded into a Tensorflow string (`tf.string`), which is passed to the serving function (`serving_fn`). The serving function preprocesses the `tf.string` into raw (uncompressed) numpy bytes (`preprocess_fn`) to match the input requirements of the model:\n",
        "- `io.decode_jpeg`- Decompresses the JPG image which is returned as a Tensorflow tensor with three channels (RGB).\n",
        "- `image.convert_image_dtype` - Changes integer pixel values to float 32.\n",
        "- `image.resize` - Resizes the image to match the input shape for the model.\n",
        "- `resized / 255.0` - Rescales (normalization) the pixel data between 0 and 1.\n",
        "\n",
        "At this point, the data can be passed to the model (`m_call`)."
      ]
    },
    {
      "cell_type": "code",
      "execution_count": null,
      "metadata": {
        "id": "pBgG1CmZSgiL"
      },
      "outputs": [],
      "source": [
        "CONCRETE_INPUT = \"numpy_inputs\"\n",
        "\n",
        "\n",
        "def _preprocess(bytes_input):\n",
        "    decoded = tf.io.decode_jpeg(bytes_input, channels=3)\n",
        "    decoded = tf.image.convert_image_dtype(decoded, tf.float32)\n",
        "    resized = tf.image.resize(decoded, size=(32, 32))\n",
        "    rescale = tf.cast(resized / 255.0, tf.float32)\n",
        "    return rescale\n",
        "\n",
        "\n",
        "@tf.function(input_signature=[tf.TensorSpec([None], tf.string)])\n",
        "def preprocess_fn(bytes_inputs):\n",
        "    decoded_images = tf.map_fn(\n",
        "        _preprocess, bytes_inputs, dtype=tf.float32, back_prop=False\n",
        "    )\n",
        "    return {\n",
        "        CONCRETE_INPUT: decoded_images\n",
        "    }  # User needs to make sure the key matches model's input\n",
        "\n",
        "\n",
        "m_call = tf.function(model.call).get_concrete_function(\n",
        "    [tf.TensorSpec(shape=[None, 32, 32, 3], dtype=tf.float32, name=CONCRETE_INPUT)]\n",
        ")\n",
        "\n",
        "\n",
        "@tf.function(input_signature=[tf.TensorSpec([None], tf.string)])\n",
        "def serving_fn(bytes_inputs):\n",
        "    images = preprocess_fn(bytes_inputs)\n",
        "    prob = m_call(**images)\n",
        "    return prob\n",
        "\n",
        "\n",
        "tf.saved_model.save(\n",
        "    model,\n",
        "    model_path_to_deploy,\n",
        "    signatures={\n",
        "        \"serving_default\": serving_fn,\n",
        "    },\n",
        ")"
      ]
    },
    {
      "cell_type": "markdown",
      "metadata": {
        "id": "_x3lEUzYSgiL"
      },
      "source": [
        "## Get the serving function signature\n",
        "\n",
        "You can get the signatures of your model's input and output layers by reloading the model into memory, and querying it for the signatures corresponding to each layer.\n",
        "\n",
        "For your purpose, you need the signature of the serving function. When you send a prediction request as a HTTP request packet, the image data is base64-encoded, and the TensorFlow model takes numpy input. Th AI Platform pre-built prediction container converts the base64-encoded data to image bytes, and your serving function converts image bytes to a numpy array. \n",
        "\n",
        "When making a prediction request, you need to route the request to the serving function instead of the model, so you need to know the input layer name of the serving function."
      ]
    },
    {
      "cell_type": "code",
      "execution_count": null,
      "metadata": {
        "id": "vuOr9PoESgiL"
      },
      "outputs": [],
      "source": [
        "loaded = tf.saved_model.load(model_path_to_deploy)\n",
        "\n",
        "input_name = list(\n",
        "    loaded.signatures[\"serving_default\"].structured_input_signature[1].keys()\n",
        ")[0]\n",
        "print(\"Serving function input:\", input_name)"
      ]
    },
    {
      "cell_type": "markdown",
      "metadata": {
        "id": "1edgQijfSgiL"
      },
      "source": [
        "### Debugging the serving function\n",
        "\n",
        "Now that you've downloaded the model with the serving function, you can debug the serving function locally before deploying to a prediction server.\n",
        "\n",
        "#### Test instance\n",
        "\n",
        "Make a test instance in the form passed by the HTTP server in the server binary to the serving function.\n",
        "\n",
        "Start by taking an arbitrary raw (uncompressed) image from our test data (`x_test[0]`). When the request is sent to the prediction server, it will be sent as a non-preprocessed compressed JPEG image.\n",
        "\n",
        "- Reverse the preprocessing: `(x_test[0] * 255).astype(np.uint8)`\n",
        "- Compress into JPEG format: `cv2.imwrite('tmp.jpg', raw)`\n",
        "- Get the raw bytes: `bytes = tf.io.read_file('tmp.jpg')`\n",
        "- Convert the raw bytes to a tf.string: tf.convert_to_tensor( [bytes], tf.string)"
      ]
    },
    {
      "cell_type": "code",
      "execution_count": null,
      "metadata": {
        "id": "jg6HcIQUSgiL"
      },
      "outputs": [],
      "source": [
        "from PIL import Image\n",
        "\n",
        "raw = (x_test[0] * 255).astype(np.uint8)\n",
        "image = Image.fromarray(raw)\n",
        "image.save(\"tmp.jpg\")\n",
        "\n",
        "bytes = tf.io.read_file(\"tmp.jpg\")\n",
        "tensor = tf.convert_to_tensor([bytes], tf.string)"
      ]
    },
    {
      "cell_type": "markdown",
      "metadata": {
        "id": "yZ3emIXhSgiL"
      },
      "source": [
        "#### Call the serving function\n",
        "\n",
        "Pass the data to the serving function and get the response.\n",
        "\n",
        "- Get the serving function from the fused model: `loaded.signatures[\"serving_default\"]`\n",
        "- Run the serving function on the local CPU: `with tf.device(\"cpu:0\")`\n",
        "- Invoke the serving function: `serving_function(tensor)`"
      ]
    },
    {
      "cell_type": "code",
      "execution_count": null,
      "metadata": {
        "id": "GHjrHYguSgiL"
      },
      "outputs": [],
      "source": [
        "serving_function = loaded.signatures[\"serving_default\"]\n",
        "with tf.device(\"cpu:0\"):\n",
        "    response = serving_function(tensor)"
      ]
    },
    {
      "cell_type": "markdown",
      "metadata": {
        "id": "m2xeFOt_SgiM"
      },
      "source": [
        "Print the response. You will see in the response the probability values for the ten CIFAR10 classes."
      ]
    },
    {
      "cell_type": "code",
      "execution_count": null,
      "metadata": {
        "id": "fjPmcwV7SgiM"
      },
      "outputs": [],
      "source": [
        "print(response)"
      ]
    },
    {
      "cell_type": "markdown",
      "metadata": {
        "id": "Degbsde8SgiM"
      },
      "source": [
        "### Upload the model\n",
        "\n",
        "Use this helper function `upload_model` to upload your model, stored in SavedModel format, to the model service, which will create an AI Platform `Model` resource. Once you've done that, you can use the model in the same way as any other AI Platform `Model` resource; for example, you can deploying to an `Endpoint` for serving predictions.\n",
        "\n",
        "The helper function takes the parameters:\n",
        "\n",
        "- `display_name`: A human readable name for the endpoint.\n",
        "- `image_uri`: The container image for the model deployment.\n",
        "- `model_uri`: The Cloud Storage path to our SavedModel artifact. For this tutorial, this is the Cloud Storage location where the `trainer/task.py` script saved the model, which we specified in the variable `MODEL_DIR`.\n",
        "\n",
        "The helper function uses the model client service's `upload_model` method, which takes the parameters:\n",
        "\n",
        "- `parent`: The AI Platform location root path for `Dataset`, `Model` and `Endpoint` resources. \n",
        "- `model`: The specification for the AI Platform (Unified) `Model` resource.\n",
        "\n",
        "The `model` paramter is a dictionary object that consists of the following fields:\n",
        "\n",
        "- `display_name`: A human readable name for the model.\n",
        "- `metadata_schema_uri`: Since the model was built without a AI Platform (Unified) managed dataset, leave this blank (`''`).\n",
        "- `artificat_uri`: The Cloud Storage path where the model is stored in SavedModel format. \n",
        "- `container_spec`: This is the specification for the Docker container that will run on the `Endpoint` to serve predictions. Use the variable you set earlier: `DEPLOY_GPU != None` to use a GPU; otherwise only a CPU is allocated.\n",
        "\n",
        "Uploading a model into a AI Platform `Model` resource returns a long-running operation, since it might take a few moments. You call `response.result()`, which is a synchronous call and will return when the AI Platform `Model` resource is ready. \n",
        "\n",
        "The helper function returns the AI Platform fully qualified identifier for the corresponding AI Platform model instance `upload_model_response.model`. You will save the identifier for subsequent steps in the variable `model_to_deploy_name`."
      ]
    },
    {
      "cell_type": "code",
      "execution_count": null,
      "metadata": {
        "id": "VIgK-58RSgiM"
      },
      "outputs": [],
      "source": [
        "IMAGE_URI = DEPLOY_IMAGE\n",
        "\n",
        "\n",
        "def upload_model(display_name, image_uri, model_uri):\n",
        "    model = {\n",
        "        \"display_name\": display_name,\n",
        "        \"metadata_schema_uri\": \"\",\n",
        "        \"artifact_uri\": model_uri,\n",
        "        \"container_spec\": {\n",
        "            \"image_uri\": image_uri,\n",
        "            \"command\": [],\n",
        "            \"args\": [],\n",
        "            \"env\": [{\"name\": \"env_name\", \"value\": \"env_value\"}],\n",
        "            \"ports\": [{\"container_port\": 8080}],\n",
        "            \"predict_route\": \"\",\n",
        "            \"health_route\": \"\",\n",
        "        },\n",
        "    }\n",
        "    response = clients[\"model\"].upload_model(parent=PARENT, model=model)\n",
        "    print(\"Long running operation:\", response.operation.name)\n",
        "    upload_model_response = response.result(timeout=180)\n",
        "    print(\"upload_model_response\")\n",
        "    print(\" model:\", upload_model_response.model)\n",
        "    return upload_model_response.model\n",
        "\n",
        "\n",
        "model_to_deploy_name = upload_model(\n",
        "    \"cifar10-\" + TIMESTAMP, IMAGE_URI, model_path_to_deploy\n",
        ")"
      ]
    },
    {
      "cell_type": "markdown",
      "metadata": {
        "id": "yqgkMcYdSgiM"
      },
      "source": [
        "### List all models\n",
        "\n",
        "Now that your custom model is uploaded as an AI Platform `Model`, get a list of all your `Model` resources. Use the following helper function, `list_models`. This helper function calls the AI Platform model client service's `list_models` method, with the following parameter:\n",
        "\n",
        "- `parent`: The AI Platform location root path for your `Dataset`, `Model`, and `Endpoint` resources.\n",
        "\n",
        "The response object from the call is a list, where each element is a AI Platform `Model`. For each `Model`, you will see a few fields:\n",
        "\n",
        "- `name`: The AI Platform (Unified) unique identifier for the `Model`.\n",
        "- `display_name`: The human readable name assigned to the model.\n",
        "- `create_time`': Timestamp when the model resource was created.\n",
        "- `update_time`: Timestamp when the model resource was last updated.\n",
        "- `container`: The container image used for training the model.\n",
        "- `artifact_uri`': The Cloud Storage location of the model artifact."
      ]
    },
    {
      "cell_type": "code",
      "execution_count": null,
      "metadata": {
        "id": "K2IEKODcSgiM"
      },
      "outputs": [],
      "source": [
        "def list_models():\n",
        "    response = clients[\"model\"].list_models(parent=PARENT)\n",
        "    for model in response:\n",
        "        print(\"name\", model.name)\n",
        "        print(\"display_name\", model.display_name)\n",
        "        print(\"create_time\", model.create_time)\n",
        "        print(\"update_time\", model.update_time)\n",
        "        print(\"container\", model.container_spec.image_uri)\n",
        "        print(\"artifact_uri\", model.artifact_uri)\n",
        "        print(\"\\n\")\n",
        "\n",
        "\n",
        "list_models()"
      ]
    },
    {
      "cell_type": "markdown",
      "metadata": {
        "id": "gqc5mArDSgiM"
      },
      "source": [
        "### Get model information\n",
        "\n",
        "Get the information for just your `Model`. Use the helper function `get_model`, with the following parameter:\n",
        "\n",
        "- `name`: The AI Platform unique identifier for the `Model`.\n",
        "\n",
        "This helper function calls the AI Platform model client service's `get_model` method, with the following parameter:\n",
        "\n",
        "- `name`: The AI Platform unique identifier for the `Model`."
      ]
    },
    {
      "cell_type": "code",
      "execution_count": null,
      "metadata": {
        "id": "UH1ZTMIFSgiN"
      },
      "outputs": [],
      "source": [
        "def get_model(name):\n",
        "    response = clients[\"model\"].get_model(name=name)\n",
        "    print(response)\n",
        "\n",
        "\n",
        "get_model(model_to_deploy_name)"
      ]
    },
    {
      "cell_type": "markdown",
      "metadata": {
        "id": "SZLsZ5OBSgiN"
      },
      "source": [
        "### Create an `Endpoint`\n",
        "\n",
        "Use the helper function `create_endpoint` to create an `Endpoint` to deploy the `Model` to for serving predictions, with the following parameter:\n",
        "\n",
        "- `display_name`: A human readable name for the `Endpoint`.\n",
        "\n",
        "The helper function uses the endpoint client service's `create_endpoint` method, which takes the parameter:\n",
        "\n",
        "- `display_name`: A human readable name for the `Endpoint`.\n",
        "\n",
        "Creating an `Endpoint` returns a long-running operation, since it might take a few moments to provision the endpoint for serving. You will call `response.result()`, which is a synchronous call and will return when the `Endpoint` is ready. The helper function returns the AI Platform fully qualified identifier for the `Endpoint` in the `response.name` field.\n"
      ]
    },
    {
      "cell_type": "code",
      "execution_count": null,
      "metadata": {
        "id": "plo62y3rSgiN"
      },
      "outputs": [],
      "source": [
        "ENDPOINT_NAME = \"cifar10_endpoint-\" + TIMESTAMP\n",
        "\n",
        "\n",
        "def create_endpoint(display_name):\n",
        "    endpoint = {\"display_name\": display_name}\n",
        "    response = clients[\"endpoint\"].create_endpoint(parent=PARENT, endpoint=endpoint)\n",
        "    print(\"Long running operation:\", response.operation.name)\n",
        "\n",
        "    result = response.result(timeout=300)\n",
        "    print(\"result\")\n",
        "    print(\" name:\", result.name)\n",
        "    print(\" display_name:\", result.display_name)\n",
        "    print(\" description:\", result.description)\n",
        "    print(\" labels:\", result.labels)\n",
        "    print(\" create_time:\", result.create_time)\n",
        "    print(\" update_time:\", result.update_time)\n",
        "    return result.name\n",
        "\n",
        "\n",
        "endpoint_name = create_endpoint(ENDPOINT_NAME)"
      ]
    },
    {
      "cell_type": "markdown",
      "metadata": {
        "id": "A6m66ItZSgiN"
      },
      "source": [
        "### Prediction scaling\n",
        "\n",
        "You have several choices on scaling the VMs for handling your online prediction requests:\n",
        "\n",
        "- Single Instance: The online prediction requests are processed on a single VM.\n",
        "  - Set the minimum (`MIN_NODES`) and maximum (`MAX_NODES`) number of compute instances to one. \n",
        "\n",
        "\n",
        "- Manual Scaling: The online prediction requests are split across a fixed number of VMs that you manually specified.\n",
        "  - Set the minimum (`MIN_NODES`) and maximum (`MAX_NODES`) number of VMs to the same number of nodes. When a `Model` is first deployed to `Endpoint`, the fixed number of compute instances are provisioned and online prediction requests are evenly distributed across them.\n",
        "  \n",
        "\n",
        "- Auto Scaling: The online prediction requests are streamed across an initial number of VMs. Based on time and compute tradeoffs, AI Platform might automatically scale your `DeployedModel` to provision and deprovision compute instances.\n",
        "  - Set the minimum (`MIN_NODES`) to the initial number of VMs and the maximum (`MAX_NODES`) to the maximum number of VMs that you want the service to scale to.\n",
        "  \n",
        "The minimum number of VMs corresponds to the field `min_replica_count` and the maximum number of VMs corresponds to the field `max_replica_count`."
      ]
    },
    {
      "cell_type": "code",
      "execution_count": null,
      "metadata": {
        "id": "PyMkIvEMSgiN"
      },
      "outputs": [],
      "source": [
        "MIN_NODES = 1\n",
        "MAX_NODES = 1"
      ]
    },
    {
      "cell_type": "markdown",
      "metadata": {
        "id": "pEL3X1uUSgiN"
      },
      "source": [
        "### Deploy model to the endpoint\n",
        "\n",
        "Use the helper function `deploy_model` to deploy the `Model` to the `Endpoint` you created for serving predictions, with the following parameters:\n",
        "\n",
        "- `model`: The AI Platform fully qualified identifier of the `Model` to deploy.\n",
        "- `deployed_model_display_name`: A human readable name for the `DeployedModel`.\n",
        "- `endpoint`: The AI Platform fully qualified `Endpoint` identifier to deploy the `Model` to.\n",
        "\n",
        "The helper function calls the endpoint client service's `deploy_model` method, which takes the following parameters:\n",
        "\n",
        "- `endpoint`: The AI Platform fully qualified `Endpoint` identifier to deploy the `Model` to.\n",
        "- `deployed_model`: The requirements for deploying the `Model`.\n",
        "- `traffic_split`: Percent of the `Endpoint`'s traffic that you want to go to this `DeployedModel`. This is specified as a dictionary of one or more key/value pairs.\n",
        "   - If only one model, then specify as **{ \"0\": 100 }**, where \"0\" refers to the new `DeployedModel` and 100 means 100% of the traffic.\n",
        "   - If there are existing models on the endpoint, for which the traffic will be split, then specify as follows, where `model_id` is the model id of an existing model to the deployed endpoint. The percents must add up to 100.\n",
        "   \n",
        "           { \"0\": percent, model_id: percent, ... }\n",
        "\n",
        "The `deployed_model` parameter is specified as a Python dictionary with the minimum required fields:\n",
        "\n",
        "- `model`: The AI Platform fully qualified identifier of the `Model` to deploy.\n",
        "- `display_name`: A human readable name for the `DeployedModel`.\n",
        "- `dedicated_resources`: This refers to how many VMs (replicas) are scaled for serving prediction requests.  \n",
        "  - `machine_spec`: The compute resources to provision for each VM. Use the variable you set earlier: `DEPLOY_GPU != None` to use a GPU; otherwise only a CPU is allocated.  \n",
        "  - `min_replica_count`: The number of VMs to initially provision, which you set earlier as the variable `MIN_NODES`.\n",
        "  - `max_replica_count`: The maximum number of VMs to scale to, which you set earlier as the variable `MAX_NODES`.\n",
        "- `enable_container_logging`: This enables logging of container events, such as execution failures. The default is False. This is typically set to True when debugging the deployment and then set to False when deployed for production.\n",
        "\n",
        "\n",
        "Configuring the `traffic_split` to split traffic between multiple `DeployedModel` resources might be helpful in a situation like the following: Perhaps you already have a previous version of your model deployed in production as a `DeployedModel` called `v1`. You got better model evaluation on a new model, which you will deploy as `v2`, but you don't know for certain that it is really better until you deploy to production. So in the case of traffic split, you might want to deploy `v2` to the same `Endpoint` as `v1` but only allocate it 10% of the traffic. That way, you can monitor how well it does without disrupting the majority of users -- until you make a final decision."
      ]
    },
    {
      "cell_type": "code",
      "execution_count": null,
      "metadata": {
        "id": "so-Oum3mSgiN"
      },
      "outputs": [],
      "source": [
        "DEPLOYED_NAME = \"cifar10_deployed-\" + TIMESTAMP\n",
        "\n",
        "\n",
        "def deploy_model(\n",
        "    model, deployed_model_display_name, endpoint, traffic_split={\"0\": 100}\n",
        "):\n",
        "\n",
        "    if DEPLOY_GPU:\n",
        "        machine_spec = {\n",
        "            \"machine_type\": DEPLOY_COMPUTE,\n",
        "            \"accelerator_type\": DEPLOY_GPU,\n",
        "            \"accelerator_count\": DEPLOY_NGPU,\n",
        "        }\n",
        "    else:\n",
        "        machine_spec = {\n",
        "            \"machine_type\": DEPLOY_COMPUTE,\n",
        "            \"accelerator_count\": 0,\n",
        "        }\n",
        "\n",
        "    deployed_model = {\n",
        "        \"model\": model,\n",
        "        \"display_name\": deployed_model_display_name,\n",
        "        \"dedicated_resources\": {\n",
        "            \"min_replica_count\": MIN_NODES,\n",
        "            \"max_replica_count\": MAX_NODES,\n",
        "            \"machine_spec\": machine_spec,\n",
        "        },\n",
        "    }\n",
        "\n",
        "    response = clients[\"endpoint\"].deploy_model(\n",
        "        endpoint=endpoint, deployed_model=deployed_model, traffic_split=traffic_split\n",
        "    )\n",
        "\n",
        "    print(\"Long running operation:\", response.operation.name)\n",
        "    result = response.result()\n",
        "    print(\"result\")\n",
        "    deployed_model = result.deployed_model\n",
        "    print(\" deployed_model\")\n",
        "    print(\"  id:\", deployed_model.id)\n",
        "    print(\"  model:\", deployed_model.model)\n",
        "    print(\"  display_name:\", deployed_model.display_name)\n",
        "    print(\"  create_time:\", deployed_model.create_time)\n",
        "\n",
        "    return deployed_model.id\n",
        "\n",
        "\n",
        "deployed_model_id = deploy_model(model_to_deploy_name, DEPLOYED_NAME, endpoint_name)"
      ]
    },
    {
      "cell_type": "markdown",
      "metadata": {
        "id": "ScGBig3CSgiO"
      },
      "source": [
        "### List all endpoints\n",
        "\n",
        "Get a list of all your `Endpoint` resources. Use the helper function `list_endpoints`. \n",
        "\n",
        "The helper function calls the endpoint client service's `list_endpoints` method. The returned response object is a list, with an element for each `Endpoint`. The helper function prints a few example fields for each `Endpoint`:\n",
        "\n",
        "- `name`: The AI Platform identifier for the `Endpoint`.\n",
        "- `display_name`: The human readable name you assigned to the `Endpoint`.\n",
        "- `create_time`: When the `Endpoint` was created.\n",
        "- `deployed_models`: The `DeployedModel`s and associated information that are deployed to this `Endpoint`."
      ]
    },
    {
      "cell_type": "code",
      "execution_count": null,
      "metadata": {
        "id": "zxlYv6wrSgiO"
      },
      "outputs": [],
      "source": [
        "def list_endpoints():\n",
        "    response = clients[\"endpoint\"].list_endpoints(parent=PARENT)\n",
        "    for endpoint in response:\n",
        "        print(\"name:\", endpoint.name)\n",
        "        print(\"display name:\", endpoint.display_name)\n",
        "        print(\"create_time:\", endpoint.create_time)\n",
        "        print(\"deployed_models\", endpoint.deployed_models)\n",
        "        print(\"\\n\")\n",
        "\n",
        "\n",
        "list_endpoints()"
      ]
    },
    {
      "cell_type": "markdown",
      "metadata": {
        "id": "lhJmhTkXSgiO"
      },
      "source": [
        "### Get information on this endpoint\n",
        "\n",
        "Get informationfor just your endpoint. Use the helper function `get_endpoint`, with the following parameter:\n",
        "\n",
        "- `name`: The AI Platform unique identifier for the `Endpoint`.\n",
        "\n",
        "This helper function calls the endpoint client service's `get_endpoint` method, with the following parameter:\n",
        "\n",
        "- `name`: The AI Platform unique identifier for the managed `Endpoint`."
      ]
    },
    {
      "cell_type": "code",
      "execution_count": null,
      "metadata": {
        "id": "YwACLR_2SgiO"
      },
      "outputs": [],
      "source": [
        "def get_endpoint(name):\n",
        "    response = clients[\"endpoint\"].get_endpoint(name=name)\n",
        "    print(response)\n",
        "\n",
        "\n",
        "get_endpoint(endpoint_name)"
      ]
    },
    {
      "cell_type": "markdown",
      "metadata": {
        "id": "4aSKeYHgSgiO"
      },
      "source": [
        "## Make a prediction request\n",
        "\n",
        "Let's now get a prediction from the `Endpoint`. You will use an arbitrary image out of the test (holdout) portion of the dataset as a test image. "
      ]
    },
    {
      "cell_type": "code",
      "execution_count": null,
      "metadata": {
        "id": "tNeQLjsESgiO"
      },
      "outputs": [],
      "source": [
        "test_image = x_test[0]\n",
        "test_label = y_test[0]\n",
        "print(test_image.shape)"
      ]
    },
    {
      "cell_type": "markdown",
      "metadata": {
        "id": "KtAPMMdISgiO"
      },
      "source": [
        "### Prepare the request content\n",
        "You are going to send the CIFAR10 image as compressed JPG image, instead of the raw uncompressed bytes:\n",
        "\n",
        "- `cv2.imwrite`: Use openCV to write the uncompressed image to disk as a compressed JPEG image.\n",
        "- `tf.io.read_file`: Read the compressed JPG images back into memory as raw bytes.\n",
        "- `base64.b64encode`: Encode the raw bytes into a base64-encoded string."
      ]
    },
    {
      "cell_type": "code",
      "execution_count": null,
      "metadata": {
        "id": "9S7cBilXSgiP"
      },
      "outputs": [],
      "source": [
        "import base64\n",
        "\n",
        "from PIL import Image\n",
        "\n",
        "image = Image.fromarray((test_image * 255).astype(np.uint8))\n",
        "image.save(\"tmp.jpg\")\n",
        "\n",
        "bytes = tf.io.read_file(\"tmp.jpg\")\n",
        "b64str = base64.b64encode(bytes.numpy()).decode(\"utf-8\")"
      ]
    },
    {
      "cell_type": "markdown",
      "metadata": {
        "id": "2e7L50KISgiP"
      },
      "source": [
        "### Send the prediction request\n",
        "\n",
        "To send a prediction request, use the helper function `predict_image`, which takes the following parameters:\n",
        "\n",
        "- `image`: The test image data as a numpy array.\n",
        "- `endpoint`: The AI Platform fully qualified identifier for the `Endpoint`.\n",
        "- `parameters_dict`: Additional parameters for serving -- in this case, None.\n",
        "\n",
        "This function calls the prediction client service's `predict` method with the following parameters:\n",
        "\n",
        "- `endpoint`: The AI Platform fully qualified identifier for the `Endpoint`.\n",
        "- `instances`: A list of instances (encoded images) to predict.\n",
        "- `parameters`: Additional parameters for serving -- in this case, None.\n",
        "\n",
        "To pass the image data to the prediction service, in the previous step you encoded the bytes into base 64 -- which makes the content safe from modification when transmitting binary data over the network. You need to tell the pre-built container that the content has been base64-encoded, so it will decode the on the other end before passing it to your TensorFlow graph. \n",
        "\n",
        "Each instance in the prediction request is a dictionary with the following form:\n",
        "\n",
        "                        {input_name: {'b64': content}}\n",
        "                        \n",
        "- `input_name`: the name of the input layer of the underlying model.\n",
        "- `'b64'`: A key that indicates the content is base64-encoded.\n",
        "- `content`: The compressed JPEG image bytes as a base64-encoded string.\n",
        "\n",
        "Since the `predict()` service can take multiple images (instances), you will send your single image as a list of one image. As a final step, you package the instances list into Google's protobuf format; this is what you pass to the `predict()` service.\n",
        "\n",
        "The `response` object returns a list, where each element in the list corresponds to the corresponding image in the request. You will see in the output for each prediction:\n",
        "\n",
        "- Confidence level for the prediction (`predictions`), between 0 and 1, for each of the ten classes."
      ]
    },
    {
      "cell_type": "code",
      "execution_count": null,
      "metadata": {
        "id": "N10ce0BZSgiP"
      },
      "outputs": [],
      "source": [
        "def predict_image(image, endpoint, parameters_dict):\n",
        "    # The format of each instance should conform to the deployed model's prediction input schema.\n",
        "    instances_list = [{input_name: {\"b64\": image}}]\n",
        "    instances = [json_format.ParseDict(s, Value()) for s in instances_list]\n",
        "\n",
        "    response = clients[\"prediction\"].predict(\n",
        "        endpoint=endpoint, instances=instances, parameters=parameters_dict\n",
        "    )\n",
        "    print(\"response\")\n",
        "    print(\" deployed_model_id:\", response.deployed_model_id)\n",
        "    predictions = response.predictions\n",
        "    print(\"predictions\")\n",
        "    for prediction in predictions:\n",
        "        # See gs://google-cloud-aiplatform/schema/predict/prediction/classification.yaml for the format of the predictions.\n",
        "        print(\" prediction:\", prediction)\n",
        "\n",
        "\n",
        "predict_image(b64str, endpoint_name, None)"
      ]
    },
    {
      "cell_type": "markdown",
      "metadata": {
        "id": "Q4qZv6TvSgiP"
      },
      "source": [
        "## Undeploy the model\n",
        "\n",
        "Undeploy your `DeployedModel` from the serving `Endpoint`. Use the helper function `undeploy_model`, which takes the following parameters:\n",
        "\n",
        "- `deployed_model_id`: The `DeployedModel` identifier returned by the `Endpoint` service when you deployed the `Model` as a `DeployedModel`.\n",
        "- `endpoint`: The AI Platform fully qualified identifier for the `Endpoint` where the `DeployedModel` is deployed.\n",
        "\n",
        "This function calls the endpoint client service's `undeploy_model` method, with the following parameters:\n",
        "\n",
        "- `deployed_model_id`: The `DeployedModel` identifier returned by the `Endpoint` service when you dep\n",
        "- `endpoint`: The AI Platform fully qualified identifier for the `Endpoint` where the `DeployedModel` is deployed.\n",
        "- `traffic_split`: How to split traffic among the remaining `DeployedModel`s on the `Endpoint`.\n",
        "\n",
        "Since this is the only `DeployedModel` on the `Endpoint`, you can leave `traffic_split` empty by setting it to {}."
      ]
    },
    {
      "cell_type": "code",
      "execution_count": null,
      "metadata": {
        "id": "gcTR9_JUSgiP"
      },
      "outputs": [],
      "source": [
        "def undeploy_model(deployed_model_id, endpoint):\n",
        "    response = clients[\"endpoint\"].undeploy_model(\n",
        "        endpoint=endpoint, deployed_model_id=deployed_model_id, traffic_split={}\n",
        "    )\n",
        "    print(response)\n",
        "\n",
        "\n",
        "undeploy_model(deployed_model_id, endpoint_name)"
      ]
    },
    {
      "cell_type": "markdown",
      "metadata": {
        "id": "TpV-iwP9qw9c"
      },
      "source": [
        "# Cleaning up\n",
        "\n",
        "To clean up all Google Cloud resources used in this project, you can [delete the\n",
        "project](https://cloud.google.com/resource-manager/docs/creating-managing-projects#shutting_down_projects) you used for the tutorial.\n",
        "\n",
        "Otherwise, you can delete the individual resources you created in this tutorial:\n",
        "\n",
        "- Dataset\n",
        "- Model\n",
        "- Endpoint\n",
        "- Cloud Storage Bucket"
      ]
    },
    {
      "cell_type": "code",
      "execution_count": null,
      "metadata": {
        "id": "sx_vKniMq9ZX"
      },
      "outputs": [],
      "source": [
        "delete_dataset = True\n",
        "delete_model = True\n",
        "delete_endpoint = True\n",
        "delete_bucket = True\n",
        "\n",
        "# Delete the dataset using the AI Platform (Unified) fully qualified identifier for the dataset\n",
        "try:\n",
        "    if delete_dataset:\n",
        "        clients[\"dataset\"].delete_dataset(name=dataset[\"name\"])\n",
        "except Exception as e:\n",
        "    print(e)\n",
        "\n",
        "# Delete the model using the AI Platform (Unified) fully qualified identifier for the model\n",
        "try:\n",
        "    if delete_model:\n",
        "        clients[\"model\"].delete_model(name=model_to_deploy_name)\n",
        "except Exception as e:\n",
        "    print(e)\n",
        "\n",
        "# Delete the endpoint using the AI Platform (Unified) fully qualified identifier for the endpoint\n",
        "try:\n",
        "    if delete_endpoint:\n",
        "        clients[\"endpoint\"].delete_endpoint(name=endpoint_name)\n",
        "except Exception as e:\n",
        "    print(e)\n",
        "\n",
        "if delete_bucket and \"BUCKET_NAME\" in globals():\n",
        "    ! gsutil rm -r gs://$BUCKET_NAME\n",
        "\n",
        "# Collect any unclaimed memory\n",
        "import gc\n",
        "\n",
        "gc.collect()"
      ]
    }
  ],
  "metadata": {
    "colab": {
      "collapsed_sections": [],
      "name": "gapic-custom-image-classification-online.ipynb",
      "toc_visible": true
    },
    "kernelspec": {
      "display_name": "Python 3",
      "name": "python3"
    }
  },
  "nbformat": 4,
  "nbformat_minor": 0
}
